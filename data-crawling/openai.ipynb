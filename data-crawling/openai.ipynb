{
 "cells": [
  {
   "cell_type": "code",
   "execution_count": 57,
   "metadata": {},
   "outputs": [],
   "source": [
    "import openai\n",
    "\n",
    "openai.api_key = \"my-key\"\n",
    "\n",
    "result_list = []\n",
    "MODEL = \"gpt-3.5-turbo\"\n",
    "for title in [\"\"\"[], 구글 음성인식 기술 따라잡는다\"\"\", \"\"\"[], 오픈톡 확대 잰걸음…카카오 오픈링크는 주춤\"\"\", '''[], 오픈마켓업체 서비스 모델 두고 \"대립각\"''']:\n",
    "    prompt = \"\"\"아래 글에서 각 기업명들을 XXX로 마스킹 처리해줘.\n",
    "    {}\n",
    "    \"\"\".format(title)\n",
    "\n",
    "    # max_tokens 답변을 받을 수 있는 길이 (낮은 수로 설정해둔다면 말하다 끊김)\n",
    "    \n",
    "    response = openai.ChatCompletion.create(\n",
    "        model=MODEL,\n",
    "        messages=[\n",
    "            {\"role\": \"user\", \"content\": prompt},\n",
    "        ],\n",
    "        temperature=0,\n",
    "    )\n",
    "    result_list.append(response['choices'][0]['message']['content'])"
   ]
  },
  {
   "cell_type": "code",
   "execution_count": 47,
   "metadata": {},
   "outputs": [
    {
     "data": {
      "text/plain": [
       "<OpenAIObject chat.completion id=chatcmpl-76YsnZTcj3L1JC5cZYDKxdURu8C66 at 0x1d1c27790d0> JSON: {\n",
       "  \"choices\": [\n",
       "    {\n",
       "      \"finish_reason\": \"stop\",\n",
       "      \"index\": 0,\n",
       "      \"message\": {\n",
       "        \"content\": \"G IT, \\uc624\\ud508\\ub9c8\\ucf13\\uc5c5\\uccb4 \\uc11c\\ube44\\uc2a4 \\ubaa8\\ub378 \\ub450\\uace0 \\\"\\ub300\\ub9bd\\uac01\\\"\",\n",
       "        \"role\": \"assistant\"\n",
       "      }\n",
       "    }\n",
       "  ],\n",
       "  \"created\": 1681798413,\n",
       "  \"id\": \"chatcmpl-76YsnZTcj3L1JC5cZYDKxdURu8C66\",\n",
       "  \"model\": \"gpt-3.5-turbo-0301\",\n",
       "  \"object\": \"chat.completion\",\n",
       "  \"usage\": {\n",
       "    \"completion_tokens\": 31,\n",
       "    \"prompt_tokens\": 80,\n",
       "    \"total_tokens\": 111\n",
       "  }\n",
       "}"
      ]
     },
     "execution_count": 47,
     "metadata": {},
     "output_type": "execute_result"
    }
   ],
   "source": [
    "response"
   ]
  },
  {
   "cell_type": "code",
   "execution_count": 58,
   "metadata": {},
   "outputs": [
    {
     "data": {
      "text/plain": [
       "['[XXX], XXX 음성인식 기술 따라잡는다',\n",
       " '[XXX], 오픈톡 확대 잰걸음…XXX 오픈링크는 주춤',\n",
       " '[XXX], 오픈마켓업체 서비스 모델 두고 \"대립각\"']"
      ]
     },
     "execution_count": 58,
     "metadata": {},
     "output_type": "execute_result"
    }
   ],
   "source": [
    "result_list"
   ]
  }
 ],
 "metadata": {
  "kernelspec": {
   "display_name": "base",
   "language": "python",
   "name": "python3"
  },
  "language_info": {
   "codemirror_mode": {
    "name": "ipython",
    "version": 3
   },
   "file_extension": ".py",
   "mimetype": "text/x-python",
   "name": "python",
   "nbconvert_exporter": "python",
   "pygments_lexer": "ipython3",
   "version": "3.10.9"
  },
  "orig_nbformat": 4
 },
 "nbformat": 4,
 "nbformat_minor": 2
}
