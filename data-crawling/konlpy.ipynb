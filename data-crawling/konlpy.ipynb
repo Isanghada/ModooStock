{
 "cells": [
  {
   "cell_type": "markdown",
   "metadata": {},
   "source": [
    "### Import"
   ]
  },
  {
   "cell_type": "code",
   "execution_count": 2,
   "metadata": {},
   "outputs": [],
   "source": [
    "import os \n",
    "import pymysql\n",
    "import pandas as pd\n",
    "import datetime as dt\n",
    "from tqdm import tqdm\n",
    "from konlpy.tag import Komoran, Kkma"
   ]
  },
  {
   "attachments": {},
   "cell_type": "markdown",
   "metadata": {},
   "source": [
    "### 고유명사 추출 함수"
   ]
  },
  {
   "cell_type": "code",
   "execution_count": 3,
   "metadata": {},
   "outputs": [],
   "source": [
    "komoran = Komoran()\n",
    "kkma = Kkma()"
   ]
  },
  {
   "cell_type": "code",
   "execution_count": 15,
   "metadata": {},
   "outputs": [],
   "source": [
    "def find_NNP(text, model):\n",
    "    result = set()\n",
    "    pos = model.pos(text)\n",
    "    for i in tqdm(range(len(pos))):\n",
    "        if pos[i][1] in (\"SL\", \"OL\")  and len(pos[i][0]) > 1:\n",
    "            result.add(pos[i][0])\n",
    "        elif pos[i][1] == 'NNP':\n",
    "            result.add(pos[i][0])\n",
    "    print()\n",
    "    return result"
   ]
  },
  {
   "cell_type": "code",
   "execution_count": 5,
   "metadata": {},
   "outputs": [
    {
     "name": "stdout",
     "output_type": "stream",
     "text": [
      "('네이버', 'NNP') (',', 'SP') ('NHK', 'SL') ('한국어', 'NNP') ('동시통역', 'NNG') ('문자', 'NNP') ('생', 'XPN') ('중계', 'NNG') ('갤럭시', 'NNP') ('S', 'SL') ('23', 'NNP') ('V', 'SL') ('40', 'NNP') ('LG전자', 'NNP') ('삼성전자', 'NNP') ('이재용', 'NNP') \n",
      "['네이버', 'NHK', '한국어', '문자', '갤럭시', '23', '40', 'LG전자', '삼성전자', '이재용']\n",
      "('네이버', 'NNP') (',', 'SP') ('NHK', 'OL') ('한국어', 'NNG') ('동시', 'NNG') ('통역', 'NNG') ('문자', 'NNG') ('생', 'XPN') ('중계', 'NNG') ('개', 'VV') ('ㄹ', 'ETD') ('럭', 'UN') ('시', 'NNG') ('S', 'OL') ('23', 'NR') ('V', 'OL') ('40', 'NR') ('LG', 'OL') ('전자', 'NNG') ('삼성전자', 'NNG') ('이재', 'NNG') ('용', 'XSN') \n",
      "['네이버', 'NHK', 'LG']\n"
     ]
    }
   ],
   "source": [
    "text = '네이버, NHK 한국어 동시통역 문자 생중계 갤럭시 S23 V40 LG전자 삼성전자 이재용'\n",
    "komoran_result = find_NNP(text, komoran)\n",
    "print(komoran_result)\n",
    "kkma_result = find_NNP(text, kkma)\n",
    "print(kkma_result)"
   ]
  },
  {
   "attachments": {},
   "cell_type": "markdown",
   "metadata": {},
   "source": [
    "### Data 들고오기! 함수"
   ]
  },
  {
   "cell_type": "code",
   "execution_count": 21,
   "metadata": {},
   "outputs": [],
   "source": [
    "con = pymysql.connect(host='localhost', user='ssafy', password='ssafy', \n",
    "                      db='modoostock', charset='utf8mb4', autocommit=True)\n",
    "news_list = pd.read_sql(sql=\"SELECT * FROM news WHERE company_id=2;\", con=con, index_col=\"id\")\n",
    "con.close()"
   ]
  },
  {
   "cell_type": "code",
   "execution_count": 29,
   "metadata": {},
   "outputs": [],
   "source": [
    "def mysql_to_dataframe(company_id):\n",
    "  con = pymysql.connect(host='localhost', user='ssafy', password='ssafy', \n",
    "                      db='modoostock', charset='utf8mb4', autocommit=True)\n",
    "  df_news = pd.read_sql(sql=\"SELECT * FROM news WHERE company_id={};\".format(company_id), con=con, index_col=\"id\")\n",
    "  return df_news"
   ]
  },
  {
   "attachments": {},
   "cell_type": "markdown",
   "metadata": {},
   "source": [
    "### 고유 명사 추출"
   ]
  },
  {
   "attachments": {},
   "cell_type": "markdown",
   "metadata": {},
   "source": [
    "- 모든 기사 제목을 합쳐 형태소 분석 : NNP(고유명사), SL/OL(외국어)\n",
    "- 이후 기업명, 사람 이름, 제품명을 수동으로 마스킹"
   ]
  },
  {
   "cell_type": "code",
   "execution_count": 39,
   "metadata": {},
   "outputs": [],
   "source": [
    "def company_name_replace(input):\n",
    "  return input.replace(\"NAVER\", \"네이버\") \\\n",
    "              .replace(\"삼성 전자\", \"삼성전자\") \\\n",
    "              .replace(\"SAMSUNG\", \"삼성전자\") \\\n",
    "              .replace(\"SAM SUMG\", \"삼성전자\") \\\n",
    "              .replace(\"LG 화학\", \"LG화학\") \\\n",
    "              .replace(\"LG 전자\", \"LG전자\") \\\n",
    "              .replace(\"GC녹십자웰빙\", \"녹십자\") \\\n",
    "              .replace(\"GC녹십자\", \"녹십자\") \\\n",
    "              .replace(\"녹십자생명\", \"녹십자\") \\\n",
    "              .replace(\"녹십자웰빙\", \"녹십자\") \\\n",
    "              .replace(\"GC녹십자엠에스\", \"녹십자\") \\\n",
    "              .replace(\"GC녹십자셀\", \"녹십자\") \\\n",
    "              .replace(\"GC녹십자랩셀\", \"녹십자\") \\\n",
    "              .replace(\"GC녹십자MS \", \"녹십자\") \\\n",
    "              .replace(\"녹십자엠에스\", \"녹십자\") \\\n",
    "              .replace(\"녹십자MS\", \"녹십자\") \\\n",
    "              .replace(\"셀트리온GSC\", \"셀트리온\") \\\n",
    "              .replace(\"롯데 케미칼\", \"롯데케미칼\") \\\n",
    "              .replace(\"호남석유화학\", \"롯데케미칼\") \\\n",
    "              .replace(\"SK 텔레콤\", \"SK텔레콤\") \\\n",
    "              .replace(\"SKT\", \"SK텔레콤\") \\\n",
    "              .replace(\"SK T\", \"SK텔레콤\")"
   ]
  },
  {
   "cell_type": "code",
   "execution_count": 44,
   "metadata": {},
   "outputs": [],
   "source": [
    "nnp_set = set()"
   ]
  },
  {
   "cell_type": "code",
   "execution_count": 45,
   "metadata": {},
   "outputs": [
    {
     "name": "stderr",
     "output_type": "stream",
     "text": [
      "  0%|          | 0/8 [00:00<?, ?it/s]C:\\Users\\SSAFY\\AppData\\Local\\Temp\\ipykernel_20872\\3307335590.py:4: UserWarning: pandas only supports SQLAlchemy connectable (engine/connection) or database string URI or sqlite3 DBAPI2 connection. Other DBAPI2 objects are not tested. Please consider using SQLAlchemy.\n",
      "  df_news = pd.read_sql(sql=\"SELECT * FROM news WHERE company_id={};\".format(company_id), con=con, index_col=\"id\")\n",
      "100%|██████████| 118706/118706 [00:00<00:00, 3208461.47it/s]\n",
      " 12%|█▎        | 1/8 [02:55<20:26, 175.19s/it]"
     ]
    },
    {
     "name": "stdout",
     "output_type": "stream",
     "text": [
      "\n"
     ]
    },
    {
     "name": "stderr",
     "output_type": "stream",
     "text": [
      "100%|██████████| 211675/211675 [00:00<00:00, 2851602.41it/s]\n",
      " 25%|██▌       | 2/8 [12:52<42:22, 423.74s/it]"
     ]
    },
    {
     "name": "stdout",
     "output_type": "stream",
     "text": [
      "\n"
     ]
    },
    {
     "name": "stderr",
     "output_type": "stream",
     "text": [
      "100%|██████████| 52095/52095 [00:00<00:00, 2847899.83it/s]\n",
      " 38%|███▊      | 3/8 [13:18<20:10, 242.16s/it]"
     ]
    },
    {
     "name": "stdout",
     "output_type": "stream",
     "text": [
      "\n"
     ]
    },
    {
     "name": "stderr",
     "output_type": "stream",
     "text": [
      "100%|██████████| 158331/158331 [00:00<00:00, 2529773.63it/s]\n",
      " 50%|█████     | 4/8 [18:55<18:38, 279.55s/it]"
     ]
    },
    {
     "name": "stdout",
     "output_type": "stream",
     "text": [
      "\n"
     ]
    },
    {
     "name": "stderr",
     "output_type": "stream",
     "text": [
      "100%|██████████| 142781/142781 [00:00<00:00, 2584609.39it/s]\n",
      " 62%|██████▎   | 5/8 [24:00<14:26, 288.72s/it]"
     ]
    },
    {
     "name": "stdout",
     "output_type": "stream",
     "text": [
      "\n"
     ]
    },
    {
     "name": "stderr",
     "output_type": "stream",
     "text": [
      "100%|██████████| 81467/81467 [00:00<00:00, 2285478.80it/s]\n",
      " 75%|███████▌  | 6/8 [25:24<07:18, 219.06s/it]"
     ]
    },
    {
     "name": "stdout",
     "output_type": "stream",
     "text": [
      "\n"
     ]
    },
    {
     "name": "stderr",
     "output_type": "stream",
     "text": [
      "100%|██████████| 79284/79284 [00:00<00:00, 2389288.68it/s]\n",
      " 88%|████████▊ | 7/8 [27:01<02:58, 179.00s/it]"
     ]
    },
    {
     "name": "stdout",
     "output_type": "stream",
     "text": [
      "\n"
     ]
    },
    {
     "name": "stderr",
     "output_type": "stream",
     "text": [
      "100%|██████████| 46229/46229 [00:00<00:00, 2853000.60it/s]\n",
      "100%|██████████| 8/8 [27:33<00:00, 206.67s/it]"
     ]
    },
    {
     "name": "stdout",
     "output_type": "stream",
     "text": [
      "\n"
     ]
    },
    {
     "name": "stderr",
     "output_type": "stream",
     "text": [
      "\n"
     ]
    }
   ],
   "source": [
    "for company_id in tqdm([1, 2, 3, 4, 6 ,7, 8, 9]):\n",
    "  df_news = mysql_to_dataframe(company_id)\n",
    "  content_all = \". \".join(df_news[\"content\"])\n",
    "  content_all = company_name_replace(content_all.upper())\n",
    "  nnp_set = nnp_set.union(find_NNP(content_all, komoran))"
   ]
  },
  {
   "cell_type": "code",
   "execution_count": 46,
   "metadata": {},
   "outputs": [
    {
     "data": {
      "text/plain": [
       "(['와이', '꼭짓점', '삼성전자판매', '유니티', '구관'], 12406)"
      ]
     },
     "execution_count": 46,
     "metadata": {},
     "output_type": "execute_result"
    }
   ],
   "source": [
    "list(nnp_set)[:5], len(nnp_set)"
   ]
  },
  {
   "cell_type": "code",
   "execution_count": 50,
   "metadata": {},
   "outputs": [],
   "source": [
    "df_result = pd.DataFrame({\"nnp\": list(nnp_set)})"
   ]
  },
  {
   "cell_type": "code",
   "execution_count": 51,
   "metadata": {},
   "outputs": [
    {
     "data": {
      "text/html": [
       "<div>\n",
       "<style scoped>\n",
       "    .dataframe tbody tr th:only-of-type {\n",
       "        vertical-align: middle;\n",
       "    }\n",
       "\n",
       "    .dataframe tbody tr th {\n",
       "        vertical-align: top;\n",
       "    }\n",
       "\n",
       "    .dataframe thead th {\n",
       "        text-align: right;\n",
       "    }\n",
       "</style>\n",
       "<table border=\"1\" class=\"dataframe\">\n",
       "  <thead>\n",
       "    <tr style=\"text-align: right;\">\n",
       "      <th></th>\n",
       "      <th>nnp</th>\n",
       "    </tr>\n",
       "  </thead>\n",
       "  <tbody>\n",
       "    <tr>\n",
       "      <th>0</th>\n",
       "      <td>와이</td>\n",
       "    </tr>\n",
       "    <tr>\n",
       "      <th>1</th>\n",
       "      <td>꼭짓점</td>\n",
       "    </tr>\n",
       "    <tr>\n",
       "      <th>2</th>\n",
       "      <td>삼성전자판매</td>\n",
       "    </tr>\n",
       "    <tr>\n",
       "      <th>3</th>\n",
       "      <td>유니티</td>\n",
       "    </tr>\n",
       "    <tr>\n",
       "      <th>4</th>\n",
       "      <td>구관</td>\n",
       "    </tr>\n",
       "  </tbody>\n",
       "</table>\n",
       "</div>"
      ],
      "text/plain": [
       "      nnp\n",
       "0      와이\n",
       "1     꼭짓점\n",
       "2  삼성전자판매\n",
       "3     유니티\n",
       "4      구관"
      ]
     },
     "execution_count": 51,
     "metadata": {},
     "output_type": "execute_result"
    }
   ],
   "source": [
    "df_result.head()"
   ]
  },
  {
   "cell_type": "code",
   "execution_count": 52,
   "metadata": {},
   "outputs": [],
   "source": [
    "df_result.to_csv(\"nnp_result.csv\")"
   ]
  }
 ],
 "metadata": {
  "kernelspec": {
   "display_name": "base",
   "language": "python",
   "name": "python3"
  },
  "language_info": {
   "codemirror_mode": {
    "name": "ipython",
    "version": 3
   },
   "file_extension": ".py",
   "mimetype": "text/x-python",
   "name": "python",
   "nbconvert_exporter": "python",
   "pygments_lexer": "ipython3",
   "version": "3.10.9"
  },
  "orig_nbformat": 4
 },
 "nbformat": 4,
 "nbformat_minor": 2
}
