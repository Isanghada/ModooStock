{
 "cells": [
  {
   "attachments": {},
   "cell_type": "markdown",
   "metadata": {},
   "source": [
    "### Import"
   ]
  },
  {
   "cell_type": "code",
   "execution_count": 1,
   "metadata": {},
   "outputs": [],
   "source": [
    "import os \n",
    "import pymysql\n",
    "import pandas as pd\n",
    "import datetime as dt\n",
    "from tqdm import tqdm"
   ]
  },
  {
   "attachments": {},
   "cell_type": "markdown",
   "metadata": {},
   "source": [
    "### Data 들고오기! 추가하기! 함수"
   ]
  },
  {
   "cell_type": "code",
   "execution_count": null,
   "metadata": {},
   "outputs": [],
   "source": [
    "con = pymysql.connect(host='localhost', user='ssafy', password='ssafy', \n",
    "                      db='modoostock', charset='utf8mb4', autocommit=True)\n",
    "news_list = pd.read_sql(sql=\"SELECT * FROM news WHERE company_id=2;\", con=con, index_col=\"id\")\n",
    "con.close()"
   ]
  },
  {
   "cell_type": "code",
   "execution_count": 22,
   "metadata": {},
   "outputs": [],
   "source": [
    "def mysql_to_dataframe(company_id):\n",
    "  con = pymysql.connect(host='localhost', user='ssafy', password='ssafy', \n",
    "                      db='modoostock', charset='utf8mb4', autocommit=True)\n",
    "  df_news = pd.read_sql(sql=\"SELECT * FROM news WHERE company_id={};\".format(company_id), con=con, index_col=\"id\")\n",
    "  return df_news"
   ]
  },
  {
   "cell_type": "code",
   "execution_count": 28,
   "metadata": {},
   "outputs": [],
   "source": [
    "def dataframe_to_mysql(df):\n",
    "  print(df[\"company_id\"].unique()[0])\n",
    "  con = pymysql.connect(host='localhost', user='ssafy', password='ssafy', \n",
    "                      db='modoostock', charset='utf8mb4', autocommit=True)\n",
    "  cur = con.cursor()\n",
    "  result_list = []\n",
    "  for label, value in df.iterrows():\n",
    "    result_list.append(\"('{}', '{}', '{}')\".format(value[\"company_id\"], value[\"content\"], value[\"date\"]))\n",
    "  cur.execute(\"INSERT INTO news3(company_id, content, date) VALUES \" + \",\".join(result_list))\n",
    "  con.close()\n",
    "  "
   ]
  },
  {
   "attachments": {},
   "cell_type": "markdown",
   "metadata": {},
   "source": [
    "### 명사 변경 함수"
   ]
  },
  {
   "cell_type": "code",
   "execution_count": 24,
   "metadata": {},
   "outputs": [],
   "source": [
    "df_peoples = pd.read_csv(\"./data/nnp/nnp_people.csv\", index_col=0)\n",
    "df_companies = pd.read_csv(\"./data/nnp/nnp_company.csv\", index_col=0)"
   ]
  },
  {
   "cell_type": "code",
   "execution_count": 29,
   "metadata": {},
   "outputs": [],
   "source": [
    "def masking_content(input):\n",
    "  for label, value in df_peoples.iterrows():\n",
    "    input = input.replace(value[\"nnp\"], \"OOO\")\n",
    "  for label, value in df_companies.iterrows():\n",
    "    input = input.replace(value[\"nnp\"], value[\"after\"])\n",
    "  return input"
   ]
  },
  {
   "attachments": {},
   "cell_type": "markdown",
   "metadata": {},
   "source": [
    "### 마스킹 하기"
   ]
  },
  {
   "cell_type": "code",
   "execution_count": 30,
   "metadata": {},
   "outputs": [
    {
     "name": "stderr",
     "output_type": "stream",
     "text": [
      "C:\\Users\\Isanghada\\AppData\\Local\\Temp\\ipykernel_31908\\3307335590.py:4: UserWarning: pandas only supports SQLAlchemy connectable (engine/connection) or database string URI or sqlite3 DBAPI2 connection. Other DBAPI2 objects are not tested. Please consider using SQLAlchemy.\n",
      "  df_news = pd.read_sql(sql=\"SELECT * FROM news WHERE company_id={};\".format(company_id), con=con, index_col=\"id\")\n"
     ]
    },
    {
     "name": "stdout",
     "output_type": "stream",
     "text": [
      "1\n"
     ]
    },
    {
     "name": "stderr",
     "output_type": "stream",
     "text": [
      "C:\\Users\\Isanghada\\AppData\\Local\\Temp\\ipykernel_31908\\3307335590.py:4: UserWarning: pandas only supports SQLAlchemy connectable (engine/connection) or database string URI or sqlite3 DBAPI2 connection. Other DBAPI2 objects are not tested. Please consider using SQLAlchemy.\n",
      "  df_news = pd.read_sql(sql=\"SELECT * FROM news WHERE company_id={};\".format(company_id), con=con, index_col=\"id\")\n"
     ]
    },
    {
     "name": "stdout",
     "output_type": "stream",
     "text": [
      "2\n"
     ]
    },
    {
     "name": "stderr",
     "output_type": "stream",
     "text": [
      "C:\\Users\\Isanghada\\AppData\\Local\\Temp\\ipykernel_31908\\3307335590.py:4: UserWarning: pandas only supports SQLAlchemy connectable (engine/connection) or database string URI or sqlite3 DBAPI2 connection. Other DBAPI2 objects are not tested. Please consider using SQLAlchemy.\n",
      "  df_news = pd.read_sql(sql=\"SELECT * FROM news WHERE company_id={};\".format(company_id), con=con, index_col=\"id\")\n"
     ]
    },
    {
     "name": "stdout",
     "output_type": "stream",
     "text": [
      "3\n"
     ]
    },
    {
     "name": "stderr",
     "output_type": "stream",
     "text": [
      "C:\\Users\\Isanghada\\AppData\\Local\\Temp\\ipykernel_31908\\3307335590.py:4: UserWarning: pandas only supports SQLAlchemy connectable (engine/connection) or database string URI or sqlite3 DBAPI2 connection. Other DBAPI2 objects are not tested. Please consider using SQLAlchemy.\n",
      "  df_news = pd.read_sql(sql=\"SELECT * FROM news WHERE company_id={};\".format(company_id), con=con, index_col=\"id\")\n"
     ]
    },
    {
     "name": "stdout",
     "output_type": "stream",
     "text": [
      "4\n"
     ]
    },
    {
     "name": "stderr",
     "output_type": "stream",
     "text": [
      "C:\\Users\\Isanghada\\AppData\\Local\\Temp\\ipykernel_31908\\3307335590.py:4: UserWarning: pandas only supports SQLAlchemy connectable (engine/connection) or database string URI or sqlite3 DBAPI2 connection. Other DBAPI2 objects are not tested. Please consider using SQLAlchemy.\n",
      "  df_news = pd.read_sql(sql=\"SELECT * FROM news WHERE company_id={};\".format(company_id), con=con, index_col=\"id\")\n"
     ]
    },
    {
     "name": "stdout",
     "output_type": "stream",
     "text": [
      "6\n"
     ]
    },
    {
     "name": "stderr",
     "output_type": "stream",
     "text": [
      "C:\\Users\\Isanghada\\AppData\\Local\\Temp\\ipykernel_31908\\3307335590.py:4: UserWarning: pandas only supports SQLAlchemy connectable (engine/connection) or database string URI or sqlite3 DBAPI2 connection. Other DBAPI2 objects are not tested. Please consider using SQLAlchemy.\n",
      "  df_news = pd.read_sql(sql=\"SELECT * FROM news WHERE company_id={};\".format(company_id), con=con, index_col=\"id\")\n"
     ]
    },
    {
     "name": "stdout",
     "output_type": "stream",
     "text": [
      "7\n"
     ]
    },
    {
     "name": "stderr",
     "output_type": "stream",
     "text": [
      "C:\\Users\\Isanghada\\AppData\\Local\\Temp\\ipykernel_31908\\3307335590.py:4: UserWarning: pandas only supports SQLAlchemy connectable (engine/connection) or database string URI or sqlite3 DBAPI2 connection. Other DBAPI2 objects are not tested. Please consider using SQLAlchemy.\n",
      "  df_news = pd.read_sql(sql=\"SELECT * FROM news WHERE company_id={};\".format(company_id), con=con, index_col=\"id\")\n"
     ]
    },
    {
     "name": "stdout",
     "output_type": "stream",
     "text": [
      "8\n"
     ]
    },
    {
     "name": "stderr",
     "output_type": "stream",
     "text": [
      "C:\\Users\\Isanghada\\AppData\\Local\\Temp\\ipykernel_31908\\3307335590.py:4: UserWarning: pandas only supports SQLAlchemy connectable (engine/connection) or database string URI or sqlite3 DBAPI2 connection. Other DBAPI2 objects are not tested. Please consider using SQLAlchemy.\n",
      "  df_news = pd.read_sql(sql=\"SELECT * FROM news WHERE company_id={};\".format(company_id), con=con, index_col=\"id\")\n"
     ]
    },
    {
     "name": "stdout",
     "output_type": "stream",
     "text": [
      "9\n"
     ]
    }
   ],
   "source": [
    "for id in [1,2,3,4,6,7,8,9]:\n",
    "  df = mysql_to_dataframe(id)\n",
    "  df[\"content\"] = df[\"content\"].apply(masking_content)\n",
    "  dataframe_to_mysql(df)"
   ]
  }
 ],
 "metadata": {
  "kernelspec": {
   "display_name": "py310",
   "language": "python",
   "name": "python3"
  },
  "language_info": {
   "codemirror_mode": {
    "name": "ipython",
    "version": 3
   },
   "file_extension": ".py",
   "mimetype": "text/x-python",
   "name": "python",
   "nbconvert_exporter": "python",
   "pygments_lexer": "ipython3",
   "version": "3.10.9"
  },
  "orig_nbformat": 4
 },
 "nbformat": 4,
 "nbformat_minor": 2
}
